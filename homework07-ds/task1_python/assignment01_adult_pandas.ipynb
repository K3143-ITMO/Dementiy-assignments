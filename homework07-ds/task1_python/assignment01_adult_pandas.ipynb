{
 "cells": [
  {
   "cell_type": "markdown",
   "metadata": {},
   "source": [
    "## <center> [mlcourse.ai](https://mlcourse.ai) – открытый курс OpenDataScience по машинному обучению \n",
    "\n",
    "Автор материала: Юрий Кашницкий (@yorko в Slack ODS). Материал распространяется на условиях лицензии [Creative Commons CC BY-NC-SA 4.0](https://creativecommons.org/licenses/by-nc-sa/4.0/). Можно использовать в любых целях (редактировать, поправлять и брать за основу), кроме коммерческих, но с обязательным упоминанием автора материала."
   ]
  },
  {
   "cell_type": "markdown",
   "metadata": {},
   "source": [
    "# <center>Домашнее задание № 1 (демо).<br> Анализ данных по доходу населения UCI Adult</center>"
   ]
  },
  {
   "cell_type": "markdown",
   "metadata": {},
   "source": [
    "**В задании предлагается с помощью Pandas ответить на несколько вопросов по данным репозитория UCI [Adult](https://archive.ics.uci.edu/ml/datasets/Adult).**"
   ]
  },
  {
   "cell_type": "markdown",
   "metadata": {},
   "source": [
    "Уникальные значения признаков (больше информации по ссылке выше):\n",
    "- age: continuous.\n",
    "- workclass: Private, Self-emp-not-inc, Self-emp-inc, Federal-gov, Local-gov, State-gov, Without-pay, Never-worked.\n",
    "- fnlwgt: continuous.\n",
    "- education: Bachelors, Some-college, 11th, HS-grad, Prof-school, Assoc-acdm, Assoc-voc, 9th, 7th-8th, 12th, Masters, 1st-4th, 10th, Doctorate, 5th-6th, Preschool.\n",
    "- education-num: continuous.\n",
    "- marital-status: Married-civ-spouse, Divorced, Never-married, Separated, Widowed, Married-spouse-absent, Married-AF-spouse.\n",
    "- occupation: Tech-support, Craft-repair, Other-service, Sales, Exec-managerial, Prof-specialty, Handlers-cleaners, Machine-op-inspct, Adm-clerical, Farming-fishing, Transport-moving, Priv-house-serv, Protective-serv, Armed-Forces.\n",
    "- relationship: Wife, Own-child, Husband, Not-in-family, Other-relative, Unmarried.\n",
    "- race: White, Asian-Pac-Islander, Amer-Indian-Eskimo, Other, Black.\n",
    "- sex: Female, Male.\n",
    "- capital-gain: continuous.\n",
    "- capital-loss: continuous.\n",
    "- hours-per-week: continuous.\n",
    "- native-country: United-States, Cambodia, England, Puerto-Rico, Canada, Germany, Outlying-US(Guam-USVI-etc), India, Japan, Greece, South, China, Cuba, Iran, Honduras, Philippines, Italy, Poland, Jamaica, Vietnam, Mexico, Portugal, Ireland, France, Dominican-Republic, Laos, Ecuador, Taiwan, Haiti, Columbia, Hungary, Guatemala, Nicaragua, Scotland, Thailand, Yugoslavia, El-Salvador, Trinadad&Tobago, Peru, Hong, Holand-Netherlands.   \n",
    "- salary: >50K,<=50K"
   ]
  },
  {
   "cell_type": "code",
   "execution_count": 1,
   "metadata": {},
   "outputs": [],
   "source": [
    "import pandas as pd"
   ]
  },
  {
   "cell_type": "code",
   "execution_count": 2,
   "metadata": {},
   "outputs": [
    {
     "output_type": "execute_result",
     "data": {
      "text/plain": [
       "   age         workclass  fnlwgt  education  education-num  \\\n",
       "0   39         State-gov   77516  Bachelors             13   \n",
       "1   50  Self-emp-not-inc   83311  Bachelors             13   \n",
       "2   38           Private  215646    HS-grad              9   \n",
       "3   53           Private  234721       11th              7   \n",
       "4   28           Private  338409  Bachelors             13   \n",
       "\n",
       "       marital-status         occupation   relationship   race     sex  \\\n",
       "0       Never-married       Adm-clerical  Not-in-family  White    Male   \n",
       "1  Married-civ-spouse    Exec-managerial        Husband  White    Male   \n",
       "2            Divorced  Handlers-cleaners  Not-in-family  White    Male   \n",
       "3  Married-civ-spouse  Handlers-cleaners        Husband  Black    Male   \n",
       "4  Married-civ-spouse     Prof-specialty           Wife  Black  Female   \n",
       "\n",
       "   capital-gain  capital-loss  hours-per-week native-country salary  \n",
       "0          2174             0              40  United-States  <=50K  \n",
       "1             0             0              13  United-States  <=50K  \n",
       "2             0             0              40  United-States  <=50K  \n",
       "3             0             0              40  United-States  <=50K  \n",
       "4             0             0              40           Cuba  <=50K  "
      ],
      "text/html": "<div>\n<style scoped>\n    .dataframe tbody tr th:only-of-type {\n        vertical-align: middle;\n    }\n\n    .dataframe tbody tr th {\n        vertical-align: top;\n    }\n\n    .dataframe thead th {\n        text-align: right;\n    }\n</style>\n<table border=\"1\" class=\"dataframe\">\n  <thead>\n    <tr style=\"text-align: right;\">\n      <th></th>\n      <th>age</th>\n      <th>workclass</th>\n      <th>fnlwgt</th>\n      <th>education</th>\n      <th>education-num</th>\n      <th>marital-status</th>\n      <th>occupation</th>\n      <th>relationship</th>\n      <th>race</th>\n      <th>sex</th>\n      <th>capital-gain</th>\n      <th>capital-loss</th>\n      <th>hours-per-week</th>\n      <th>native-country</th>\n      <th>salary</th>\n    </tr>\n  </thead>\n  <tbody>\n    <tr>\n      <th>0</th>\n      <td>39</td>\n      <td>State-gov</td>\n      <td>77516</td>\n      <td>Bachelors</td>\n      <td>13</td>\n      <td>Never-married</td>\n      <td>Adm-clerical</td>\n      <td>Not-in-family</td>\n      <td>White</td>\n      <td>Male</td>\n      <td>2174</td>\n      <td>0</td>\n      <td>40</td>\n      <td>United-States</td>\n      <td>&lt;=50K</td>\n    </tr>\n    <tr>\n      <th>1</th>\n      <td>50</td>\n      <td>Self-emp-not-inc</td>\n      <td>83311</td>\n      <td>Bachelors</td>\n      <td>13</td>\n      <td>Married-civ-spouse</td>\n      <td>Exec-managerial</td>\n      <td>Husband</td>\n      <td>White</td>\n      <td>Male</td>\n      <td>0</td>\n      <td>0</td>\n      <td>13</td>\n      <td>United-States</td>\n      <td>&lt;=50K</td>\n    </tr>\n    <tr>\n      <th>2</th>\n      <td>38</td>\n      <td>Private</td>\n      <td>215646</td>\n      <td>HS-grad</td>\n      <td>9</td>\n      <td>Divorced</td>\n      <td>Handlers-cleaners</td>\n      <td>Not-in-family</td>\n      <td>White</td>\n      <td>Male</td>\n      <td>0</td>\n      <td>0</td>\n      <td>40</td>\n      <td>United-States</td>\n      <td>&lt;=50K</td>\n    </tr>\n    <tr>\n      <th>3</th>\n      <td>53</td>\n      <td>Private</td>\n      <td>234721</td>\n      <td>11th</td>\n      <td>7</td>\n      <td>Married-civ-spouse</td>\n      <td>Handlers-cleaners</td>\n      <td>Husband</td>\n      <td>Black</td>\n      <td>Male</td>\n      <td>0</td>\n      <td>0</td>\n      <td>40</td>\n      <td>United-States</td>\n      <td>&lt;=50K</td>\n    </tr>\n    <tr>\n      <th>4</th>\n      <td>28</td>\n      <td>Private</td>\n      <td>338409</td>\n      <td>Bachelors</td>\n      <td>13</td>\n      <td>Married-civ-spouse</td>\n      <td>Prof-specialty</td>\n      <td>Wife</td>\n      <td>Black</td>\n      <td>Female</td>\n      <td>0</td>\n      <td>0</td>\n      <td>40</td>\n      <td>Cuba</td>\n      <td>&lt;=50K</td>\n    </tr>\n  </tbody>\n</table>\n</div>"
     },
     "metadata": {},
     "execution_count": 2
    }
   ],
   "source": [
    "data = pd.read_csv(\"../data/adult.data.csv\")\n",
    "data.head()"
   ]
  },
  {
   "cell_type": "markdown",
   "metadata": {},
   "source": [
    "**1. Сколько мужчин и женщин (признак *sex*) представлено в этом наборе данных?**"
   ]
  },
  {
   "cell_type": "code",
   "execution_count": 3,
   "metadata": {
    "collapsed": true
   },
   "outputs": [
    {
     "output_type": "execute_result",
     "data": {
      "text/plain": [
       "Male      21790\n",
       "Female    10771\n",
       "Name: sex, dtype: int64"
      ]
     },
     "metadata": {},
     "execution_count": 3
    }
   ],
   "source": [
    "data[\"sex\"].value_counts()"
   ]
  },
  {
   "cell_type": "markdown",
   "metadata": {},
   "source": [
    "**2. Каков средний возраст (признак *age*) женщин?**"
   ]
  },
  {
   "cell_type": "code",
   "execution_count": 4,
   "metadata": {
    "collapsed": true
   },
   "outputs": [
    {
     "output_type": "execute_result",
     "data": {
      "text/plain": [
       "36.85823043357163"
      ]
     },
     "metadata": {},
     "execution_count": 4
    }
   ],
   "source": [
    "data[data[\"sex\"] == \"Female\"][\"age\"].mean()"
   ]
  },
  {
   "cell_type": "markdown",
   "metadata": {},
   "source": [
    "**3. Какова доля граждан Германии (признак *native-country*)?**"
   ]
  },
  {
   "cell_type": "code",
   "execution_count": 5,
   "metadata": {
    "collapsed": true
   },
   "outputs": [
    {
     "output_type": "execute_result",
     "data": {
      "text/plain": [
       "0.004207487485028101"
      ]
     },
     "metadata": {},
     "execution_count": 5
    }
   ],
   "source": [
    "(data[\"native-country\"] == \"Germany\").sum() / data.shape[0]"
   ]
  },
  {
   "cell_type": "markdown",
   "metadata": {},
   "source": [
    "**4-5. Каковы средние значения и среднеквадратичные отклонения возраста тех, кто получает более 50K в год (признак *salary*) и тех, кто получает менее 50K в год? **"
   ]
  },
  {
   "cell_type": "code",
   "execution_count": 7,
   "metadata": {
    "collapsed": true
   },
   "outputs": [
    {
     "output_type": "stream",
     "name": "stdout",
     "text": [
      "Rich people average age: 44.24984058155847 +- 10.519027719851826\nPoor people average age: 36.78373786407767 +- 14.02008849082488\n"
     ]
    }
   ],
   "source": [
    "ages_rich = data[data[\"salary\"] == \">50K\"][\"age\"]\n",
    "ages_poor = data[data[\"salary\"] == \"<=50K\"][\"age\"]\n",
    "print(f\"Rich people average age: {ages_rich.mean()} +- {ages_rich.std()}\")\n",
    "print(f\"Poor people average age: {ages_poor.mean()} +- {ages_poor.std()}\")"
   ]
  },
  {
   "cell_type": "markdown",
   "metadata": {},
   "source": [
    "**6. Правда ли, что люди, которые получают больше 50k, имеют как минимум высшее образование? (признак *education – Bachelors, Prof-school, Assoc-acdm, Assoc-voc, Masters* или *Doctorate*)**"
   ]
  },
  {
   "cell_type": "code",
   "execution_count": 8,
   "metadata": {
    "collapsed": true
   },
   "outputs": [
    {
     "output_type": "stream",
     "name": "stdout",
     "text": [
      "['HS-grad' 'Masters' 'Bachelors' 'Some-college' 'Assoc-voc' 'Doctorate'\n 'Prof-school' 'Assoc-acdm' '7th-8th' '12th' '10th' '11th' '9th' '5th-6th'\n '1st-4th']\nНеверно.\n"
     ]
    }
   ],
   "source": [
    "print(data[data[\"salary\"] == \">50K\"][\"education\"].unique())\n",
    "print(\"Неверно.\")"
   ]
  },
  {
   "cell_type": "markdown",
   "metadata": {},
   "source": [
    "**7. Выведите статистику возраста для каждой расы (признак *race*) и каждого пола. Используйте *groupby* и *describe*. Найдите таким образом максимальный возраст мужчин расы *Amer-Indian-Eskimo*.**"
   ]
  },
  {
   "cell_type": "code",
   "execution_count": 9,
   "metadata": {
    "collapsed": true,
    "tags": []
   },
   "outputs": [
    {
     "output_type": "stream",
     "name": "stdout",
     "text": [
      "Race: Amer-Indian-Eskimo, sex: Female\ncount    119.000000\nmean      37.117647\nstd       13.114991\nmin       17.000000\n25%       27.000000\n50%       36.000000\n75%       46.000000\nmax       80.000000\nName: age, dtype: float64\nRace: Amer-Indian-Eskimo, sex: Male\ncount    192.000000\nmean      37.208333\nstd       12.049563\nmin       17.000000\n25%       28.000000\n50%       35.000000\n75%       45.000000\nmax       82.000000\nName: age, dtype: float64\nRace: Asian-Pac-Islander, sex: Female\ncount    346.000000\nmean      35.089595\nstd       12.300845\nmin       17.000000\n25%       25.000000\n50%       33.000000\n75%       43.750000\nmax       75.000000\nName: age, dtype: float64\nRace: Asian-Pac-Islander, sex: Male\ncount    693.000000\nmean      39.073593\nstd       12.883944\nmin       18.000000\n25%       29.000000\n50%       37.000000\n75%       46.000000\nmax       90.000000\nName: age, dtype: float64\nRace: Black, sex: Female\ncount    1555.000000\nmean       37.854019\nstd        12.637197\nmin        17.000000\n25%        28.000000\n50%        37.000000\n75%        46.000000\nmax        90.000000\nName: age, dtype: float64\nRace: Black, sex: Male\ncount    1569.000000\nmean       37.682600\nstd        12.882612\nmin        17.000000\n25%        27.000000\n50%        36.000000\n75%        46.000000\nmax        90.000000\nName: age, dtype: float64\nRace: Other, sex: Female\ncount    109.000000\nmean      31.678899\nstd       11.631599\nmin       17.000000\n25%       23.000000\n50%       29.000000\n75%       39.000000\nmax       74.000000\nName: age, dtype: float64\nRace: Other, sex: Male\ncount    162.000000\nmean      34.654321\nstd       11.355531\nmin       17.000000\n25%       26.000000\n50%       32.000000\n75%       42.000000\nmax       77.000000\nName: age, dtype: float64\nRace: White, sex: Female\ncount    8642.000000\nmean       36.811618\nstd        14.329093\nmin        17.000000\n25%        25.000000\n50%        35.000000\n75%        46.000000\nmax        90.000000\nName: age, dtype: float64\nRace: White, sex: Male\ncount    19174.000000\nmean        39.652498\nstd         13.436029\nmin         17.000000\n25%         29.000000\n50%         38.000000\n75%         49.000000\nmax         90.000000\nName: age, dtype: float64\n"
     ]
    }
   ],
   "source": [
    "for (race, sex), subframe in data.groupby([\"race\", \"sex\"]):\n",
    "    print(f\"Race: {race}, sex: {sex}\")\n",
    "    print(subframe[\"age\"].describe())"
   ]
  },
  {
   "cell_type": "markdown",
   "metadata": {},
   "source": [
    "**8. Среди кого больше доля зарабатывающих много (>50K): среди женатых или холостых мужчин (признак *marital-status*)? Женатыми считаем тех, у кого *marital-status* начинается с *Married* (Married-civ-spouse, Married-spouse-absent или Married-AF-spouse), остальных считаем холостыми.**"
   ]
  },
  {
   "cell_type": "code",
   "execution_count": 10,
   "metadata": {
    "collapsed": true
   },
   "outputs": [
    {
     "output_type": "execute_result",
     "data": {
      "text/plain": [
       "<=50K    7576\n",
       ">50K     5965\n",
       "Name: salary, dtype: int64"
      ]
     },
     "metadata": {},
     "execution_count": 10
    }
   ],
   "source": [
    "data[(data[\"sex\"] == \"Male\") & (data[\"marital-status\"].str.startswith(\"Married\"))][\"salary\"].value_counts()"
   ]
  },
  {
   "cell_type": "code",
   "execution_count": 11,
   "metadata": {},
   "outputs": [
    {
     "output_type": "execute_result",
     "data": {
      "text/plain": [
       "<=50K    7423\n",
       ">50K      658\n",
       "Name: salary, dtype: int64"
      ]
     },
     "metadata": {},
     "execution_count": 11
    }
   ],
   "source": [
    "data[(data['sex'] == 'Male') & (data['marital-status'].isin(['Never-married', 'Separated', 'Divorced']))]['salary'].value_counts()"
   ]
  },
  {
   "cell_type": "code",
   "execution_count": 12,
   "metadata": {},
   "outputs": [
    {
     "output_type": "execute_result",
     "data": {
      "text/plain": [
       "Married-civ-spouse       14976\n",
       "Never-married            10683\n",
       "Divorced                  4443\n",
       "Separated                 1025\n",
       "Widowed                    993\n",
       "Married-spouse-absent      418\n",
       "Married-AF-spouse           23\n",
       "Name: marital-status, dtype: int64"
      ]
     },
     "metadata": {},
     "execution_count": 12
    }
   ],
   "source": [
    "data['marital-status'].value_counts()"
   ]
  },
  {
   "source": [
    "Среди женатых мужчин доля зарабатывающих >50K больше."
   ],
   "cell_type": "markdown",
   "metadata": {}
  },
  {
   "cell_type": "markdown",
   "metadata": {},
   "source": [
    "**9. Какое максимальное число часов человек работает в неделю (признак *hours-per-week*)? Сколько людей работают такое количество часов и каков среди них процент зарабатывающих много?**"
   ]
  },
  {
   "cell_type": "code",
   "execution_count": 13,
   "metadata": {
    "collapsed": true
   },
   "outputs": [
    {
     "output_type": "stream",
     "name": "stdout",
     "text": [
      "Largest workload: 99 hrs per week\n85 workers work maximum hours\nRich share: 29.411764705882355%\n"
     ]
    }
   ],
   "source": [
    "max_working_hours = data[\"hours-per-week\"].max()\n",
    "print(f\"Largest workload: {max_working_hours} hrs per week\")\n",
    "workers = data[data[\"hours-per-week\"] == max_working_hours].shape[0]\n",
    "print(f\"{workers} workers work maximum hours\")\n",
    "earnings_share = data[(data[\"hours-per-week\"] == max_working_hours) & (data[\"salary\"] == \">50K\")].shape[0] / workers\n",
    "print(f\"Rich share: {100 * earnings_share}%\")"
   ]
  },
  {
   "cell_type": "markdown",
   "metadata": {},
   "source": [
    "**10. Посчитайте среднее время работы (*hours-per-week*) зарабатывающих мало и много (*salary*) для каждой страны (*native-country*).**"
   ]
  },
  {
   "cell_type": "code",
   "execution_count": 14,
   "metadata": {
    "collapsed": true
   },
   "outputs": [
    {
     "output_type": "execute_result",
     "data": {
      "text/plain": [
       "salary                          <=50K       >50K\n",
       "native-country                                  \n",
       "?                           40.164760  45.547945\n",
       "Cambodia                    41.416667  40.000000\n",
       "Canada                      37.914634  45.641026\n",
       "China                       37.381818  38.900000\n",
       "Columbia                    38.684211  50.000000\n",
       "Cuba                        37.985714  42.440000\n",
       "Dominican-Republic          42.338235  47.000000\n",
       "Ecuador                     38.041667  48.750000\n",
       "El-Salvador                 36.030928  45.000000\n",
       "England                     40.483333  44.533333\n",
       "France                      41.058824  50.750000\n",
       "Germany                     39.139785  44.977273\n",
       "Greece                      41.809524  50.625000\n",
       "Guatemala                   39.360656  36.666667\n",
       "Haiti                       36.325000  42.750000\n",
       "Holand-Netherlands          40.000000        NaN\n",
       "Honduras                    34.333333  60.000000\n",
       "Hong                        39.142857  45.000000\n",
       "Hungary                     31.300000  50.000000\n",
       "India                       38.233333  46.475000\n",
       "Iran                        41.440000  47.500000\n",
       "Ireland                     40.947368  48.000000\n",
       "Italy                       39.625000  45.400000\n",
       "Jamaica                     38.239437  41.100000\n",
       "Japan                       41.000000  47.958333\n",
       "Laos                        40.375000  40.000000\n",
       "Mexico                      40.003279  46.575758\n",
       "Nicaragua                   36.093750  37.500000\n",
       "Outlying-US(Guam-USVI-etc)  41.857143        NaN\n",
       "Peru                        35.068966  40.000000\n",
       "Philippines                 38.065693  43.032787\n",
       "Poland                      38.166667  39.000000\n",
       "Portugal                    41.939394  41.500000\n",
       "Puerto-Rico                 38.470588  39.416667\n",
       "Scotland                    39.444444  46.666667\n",
       "South                       40.156250  51.437500\n",
       "Taiwan                      33.774194  46.800000\n",
       "Thailand                    42.866667  58.333333\n",
       "Trinadad&Tobago             37.058824  40.000000\n",
       "United-States               38.799127  45.505369\n",
       "Vietnam                     37.193548  39.200000\n",
       "Yugoslavia                  41.600000  49.500000"
      ],
      "text/html": "<div>\n<style scoped>\n    .dataframe tbody tr th:only-of-type {\n        vertical-align: middle;\n    }\n\n    .dataframe tbody tr th {\n        vertical-align: top;\n    }\n\n    .dataframe thead th {\n        text-align: right;\n    }\n</style>\n<table border=\"1\" class=\"dataframe\">\n  <thead>\n    <tr style=\"text-align: right;\">\n      <th>salary</th>\n      <th>&lt;=50K</th>\n      <th>&gt;50K</th>\n    </tr>\n    <tr>\n      <th>native-country</th>\n      <th></th>\n      <th></th>\n    </tr>\n  </thead>\n  <tbody>\n    <tr>\n      <th>?</th>\n      <td>40.164760</td>\n      <td>45.547945</td>\n    </tr>\n    <tr>\n      <th>Cambodia</th>\n      <td>41.416667</td>\n      <td>40.000000</td>\n    </tr>\n    <tr>\n      <th>Canada</th>\n      <td>37.914634</td>\n      <td>45.641026</td>\n    </tr>\n    <tr>\n      <th>China</th>\n      <td>37.381818</td>\n      <td>38.900000</td>\n    </tr>\n    <tr>\n      <th>Columbia</th>\n      <td>38.684211</td>\n      <td>50.000000</td>\n    </tr>\n    <tr>\n      <th>Cuba</th>\n      <td>37.985714</td>\n      <td>42.440000</td>\n    </tr>\n    <tr>\n      <th>Dominican-Republic</th>\n      <td>42.338235</td>\n      <td>47.000000</td>\n    </tr>\n    <tr>\n      <th>Ecuador</th>\n      <td>38.041667</td>\n      <td>48.750000</td>\n    </tr>\n    <tr>\n      <th>El-Salvador</th>\n      <td>36.030928</td>\n      <td>45.000000</td>\n    </tr>\n    <tr>\n      <th>England</th>\n      <td>40.483333</td>\n      <td>44.533333</td>\n    </tr>\n    <tr>\n      <th>France</th>\n      <td>41.058824</td>\n      <td>50.750000</td>\n    </tr>\n    <tr>\n      <th>Germany</th>\n      <td>39.139785</td>\n      <td>44.977273</td>\n    </tr>\n    <tr>\n      <th>Greece</th>\n      <td>41.809524</td>\n      <td>50.625000</td>\n    </tr>\n    <tr>\n      <th>Guatemala</th>\n      <td>39.360656</td>\n      <td>36.666667</td>\n    </tr>\n    <tr>\n      <th>Haiti</th>\n      <td>36.325000</td>\n      <td>42.750000</td>\n    </tr>\n    <tr>\n      <th>Holand-Netherlands</th>\n      <td>40.000000</td>\n      <td>NaN</td>\n    </tr>\n    <tr>\n      <th>Honduras</th>\n      <td>34.333333</td>\n      <td>60.000000</td>\n    </tr>\n    <tr>\n      <th>Hong</th>\n      <td>39.142857</td>\n      <td>45.000000</td>\n    </tr>\n    <tr>\n      <th>Hungary</th>\n      <td>31.300000</td>\n      <td>50.000000</td>\n    </tr>\n    <tr>\n      <th>India</th>\n      <td>38.233333</td>\n      <td>46.475000</td>\n    </tr>\n    <tr>\n      <th>Iran</th>\n      <td>41.440000</td>\n      <td>47.500000</td>\n    </tr>\n    <tr>\n      <th>Ireland</th>\n      <td>40.947368</td>\n      <td>48.000000</td>\n    </tr>\n    <tr>\n      <th>Italy</th>\n      <td>39.625000</td>\n      <td>45.400000</td>\n    </tr>\n    <tr>\n      <th>Jamaica</th>\n      <td>38.239437</td>\n      <td>41.100000</td>\n    </tr>\n    <tr>\n      <th>Japan</th>\n      <td>41.000000</td>\n      <td>47.958333</td>\n    </tr>\n    <tr>\n      <th>Laos</th>\n      <td>40.375000</td>\n      <td>40.000000</td>\n    </tr>\n    <tr>\n      <th>Mexico</th>\n      <td>40.003279</td>\n      <td>46.575758</td>\n    </tr>\n    <tr>\n      <th>Nicaragua</th>\n      <td>36.093750</td>\n      <td>37.500000</td>\n    </tr>\n    <tr>\n      <th>Outlying-US(Guam-USVI-etc)</th>\n      <td>41.857143</td>\n      <td>NaN</td>\n    </tr>\n    <tr>\n      <th>Peru</th>\n      <td>35.068966</td>\n      <td>40.000000</td>\n    </tr>\n    <tr>\n      <th>Philippines</th>\n      <td>38.065693</td>\n      <td>43.032787</td>\n    </tr>\n    <tr>\n      <th>Poland</th>\n      <td>38.166667</td>\n      <td>39.000000</td>\n    </tr>\n    <tr>\n      <th>Portugal</th>\n      <td>41.939394</td>\n      <td>41.500000</td>\n    </tr>\n    <tr>\n      <th>Puerto-Rico</th>\n      <td>38.470588</td>\n      <td>39.416667</td>\n    </tr>\n    <tr>\n      <th>Scotland</th>\n      <td>39.444444</td>\n      <td>46.666667</td>\n    </tr>\n    <tr>\n      <th>South</th>\n      <td>40.156250</td>\n      <td>51.437500</td>\n    </tr>\n    <tr>\n      <th>Taiwan</th>\n      <td>33.774194</td>\n      <td>46.800000</td>\n    </tr>\n    <tr>\n      <th>Thailand</th>\n      <td>42.866667</td>\n      <td>58.333333</td>\n    </tr>\n    <tr>\n      <th>Trinadad&amp;Tobago</th>\n      <td>37.058824</td>\n      <td>40.000000</td>\n    </tr>\n    <tr>\n      <th>United-States</th>\n      <td>38.799127</td>\n      <td>45.505369</td>\n    </tr>\n    <tr>\n      <th>Vietnam</th>\n      <td>37.193548</td>\n      <td>39.200000</td>\n    </tr>\n    <tr>\n      <th>Yugoslavia</th>\n      <td>41.600000</td>\n      <td>49.500000</td>\n    </tr>\n  </tbody>\n</table>\n</div>"
     },
     "metadata": {},
     "execution_count": 14
    }
   ],
   "source": [
    "import numpy as np\n",
    "pd.crosstab(data[\"native-country\"], data[\"salary\"], values=data[\"hours-per-week\"], aggfunc=np.mean)"
   ]
  }
 ],
 "metadata": {
  "anaconda-cloud": {},
  "kernelspec": {
   "name": "python385jvsc74a57bd004d4051d718cb84dcc908a2d794a2f5a5b2c4d4872da678467b7e53afd938558",
   "display_name": "Python 3.8.5 64-bit ('cs102': virtualenvwrapper)"
  },
  "language_info": {
   "codemirror_mode": {
    "name": "ipython",
    "version": 3
   },
   "file_extension": ".py",
   "mimetype": "text/x-python",
   "name": "python",
   "nbconvert_exporter": "python",
   "pygments_lexer": "ipython3",
   "version": "3.8.5"
  }
 },
 "nbformat": 4,
 "nbformat_minor": 1
}